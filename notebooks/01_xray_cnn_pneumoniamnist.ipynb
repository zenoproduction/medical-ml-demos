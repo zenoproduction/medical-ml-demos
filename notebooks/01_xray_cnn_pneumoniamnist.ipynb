{
 "cells": [
  {
   "cell_type": "markdown",
   "id": "e07531f205fa46f1",
   "metadata": {},
   "source": [
    "# PneumoniaMNIST – Classificazione immagini (CNN)\n",
    "**Pipeline:** dataset → preprocessing → training → valutazione → metriche (ROC/AUC)\n",
    "Dataset: [MedMNIST](https://medmnist.com/) – *PneumoniaMNIST*.\n"
   ]
  },
  {
   "cell_type": "code",
   "execution_count": 1,
   "id": "4b090b32b42bd06c",
   "metadata": {
    "ExecuteTime": {
     "end_time": "2025-09-08T23:34:03.909721Z",
     "start_time": "2025-09-08T23:34:03.908270Z"
    }
   },
   "outputs": [],
   "source": [
    "# Install (if needed) – esegui una volta per ambiente\n",
    "# %pip install medmnist torch torchvision torchaudio tqdm matplotlib scikit-learn\n"
   ]
  },
  {
   "cell_type": "code",
   "execution_count": 2,
   "id": "f55e357c58cc25b4",
   "metadata": {
    "ExecuteTime": {
     "end_time": "2025-09-08T23:34:05.849113Z",
     "start_time": "2025-09-08T23:34:03.914614Z"
    }
   },
   "outputs": [
    {
     "name": "stdout",
     "output_type": "stream",
     "text": [
      "Device: cpu\n"
     ]
    }
   ],
   "source": [
    "import os, sys, numpy as np, torch, torch.nn as nn, torch.nn.functional as F\n",
    "from torchvision import transforms\n",
    "from torch.utils.data import DataLoader\n",
    "from tqdm import tqdm\n",
    "import medmnist\n",
    "from medmnist import PneumoniaMNIST\n",
    "from sklearn.metrics import roc_auc_score, roc_curve, accuracy_score, confusion_matrix\n",
    "import matplotlib.pyplot as plt\n",
    "import random\n",
    "\n",
    "SEED = 42\n",
    "torch.manual_seed(SEED); np.random.seed(SEED); random.seed(SEED)\n",
    "device = torch.device('cuda' if torch.cuda.is_available() else 'cpu')\n",
    "print('Device:', device)"
   ]
  },
  {
   "cell_type": "markdown",
   "id": "cd47a30082c1594a",
   "metadata": {},
   "source": [
    "## 1) Dataset & Preprocessing"
   ]
  },
  {
   "cell_type": "code",
   "execution_count": 3,
   "id": "a09a910aee9317f",
   "metadata": {
    "ExecuteTime": {
     "end_time": "2025-09-08T23:34:05.981656Z",
     "start_time": "2025-09-08T23:34:05.923807Z"
    }
   },
   "outputs": [
    {
     "name": "stdout",
     "output_type": "stream",
     "text": [
      "Classi: 2\n"
     ]
    }
   ],
   "source": [
    "import os, pathlib\n",
    "\n",
    "# Imposta directory dati a livello progetto e creala se non esiste\n",
    "data_root = str(pathlib.Path.cwd().parent / \"data\")\n",
    "os.makedirs(data_root, exist_ok=True)\n",
    "download = True\n",
    "\n",
    "transform = transforms.Compose([\n",
    "    transforms.ToTensor(),  # converte in [0,1]\n",
    "    transforms.Normalize(mean=[.5], std=[.5]),  # scala in [-1,1]\n",
    "])\n",
    "\n",
    "train_ds = PneumoniaMNIST(split='train', root=data_root, download=download, transform=transform)\n",
    "val_ds   = PneumoniaMNIST(split='val',   root=data_root, download=download, transform=transform)\n",
    "test_ds  = PneumoniaMNIST(split='test',  root=data_root, download=download, transform=transform)\n",
    "\n",
    "batch_size = 128\n",
    "train_loader = DataLoader(train_ds, batch_size=batch_size, shuffle=True, num_workers=2)\n",
    "val_loader   = DataLoader(val_ds,   batch_size=batch_size, shuffle=False, num_workers=2)\n",
    "test_loader  = DataLoader(test_ds,  batch_size=batch_size, shuffle=False, num_workers=2)\n",
    "\n",
    "n_classes = len(np.unique(train_ds.labels))\n",
    "print('Classi:', n_classes)\n"
   ]
  },
  {
   "cell_type": "markdown",
   "id": "60f4de71c93d60eb",
   "metadata": {},
   "source": [
    "## 2) Modello (CNN)"
   ]
  },
  {
   "cell_type": "code",
   "execution_count": 4,
   "id": "810352fcf02902f7",
   "metadata": {
    "ExecuteTime": {
     "end_time": "2025-09-08T23:34:06.045038Z",
     "start_time": "2025-09-08T23:34:06.035974Z"
    }
   },
   "outputs": [],
   "source": [
    "class SmallCNN(nn.Module):\n",
    "    def __init__(self, n_classes=2):\n",
    "        super().__init__()\n",
    "        self.conv1 = nn.Conv2d(1, 16, 3, padding=1)\n",
    "        self.conv2 = nn.Conv2d(16, 32, 3, padding=1)\n",
    "        self.pool = nn.MaxPool2d(2,2)\n",
    "        self.fc1 = nn.Linear(32*7*7, 64)  # immagini 28x28\n",
    "        self.fc2 = nn.Linear(64, n_classes)\n",
    "    def forward(self, x):\n",
    "        x = self.pool(F.relu(self.conv1(x)))\n",
    "        x = self.pool(F.relu(self.conv2(x)))\n",
    "        x = x.view(x.size(0), -1)\n",
    "        x = F.relu(self.fc1(x))\n",
    "        return self.fc2(x)\n",
    "\n",
    "model = SmallCNN(n_classes).to(device)\n",
    "criterion = nn.CrossEntropyLoss()\n",
    "optimizer = torch.optim.Adam(model.parameters(), lr=1e-3)"
   ]
  },
  {
   "cell_type": "markdown",
   "id": "5095cbb272b4ec1b",
   "metadata": {},
   "source": [
    "## 3) Training + Early Stopping (val AUC)"
   ]
  },
  {
   "cell_type": "code",
   "execution_count": null,
   "id": "865aa76d0818cc61",
   "metadata": {
    "ExecuteTime": {
     "end_time": "2025-09-08T23:41:06.616551Z",
     "start_time": "2025-09-08T23:34:06.054287Z"
    }
   },
   "outputs": [
    {
     "name": "stderr",
     "output_type": "stream",
     "text": [
      "Epoch 1/15: 100%|████████████████████████████████████████████████████████████████████████████████████████████████████████████████████████████████████████████████████████████████████████████████| 37/37 [00:14<00:00,  2.57it/s]\n"
     ]
    },
    {
     "name": "stdout",
     "output_type": "stream",
     "text": [
      "Epoch 1: train_loss=0.4177 | val_auc=0.9711 | val_acc=0.9351\n"
     ]
    },
    {
     "name": "stderr",
     "output_type": "stream",
     "text": [
      "Epoch 2/15: 100%|████████████████████████████████████████████████████████████████████████████████████████████████████████████████████████████████████████████████████████████████████████████████| 37/37 [00:14<00:00,  2.58it/s]\n"
     ]
    },
    {
     "name": "stdout",
     "output_type": "stream",
     "text": [
      "Epoch 2: train_loss=0.1801 | val_auc=0.9820 | val_acc=0.9504\n"
     ]
    },
    {
     "name": "stderr",
     "output_type": "stream",
     "text": [
      "Epoch 3/15: 100%|████████████████████████████████████████████████████████████████████████████████████████████████████████████████████████████████████████████████████████████████████████████████| 37/37 [00:14<00:00,  2.56it/s]\n"
     ]
    },
    {
     "name": "stdout",
     "output_type": "stream",
     "text": [
      "Epoch 3: train_loss=0.1498 | val_auc=0.9853 | val_acc=0.9485\n"
     ]
    },
    {
     "name": "stderr",
     "output_type": "stream",
     "text": [
      "Epoch 4/15: 100%|████████████████████████████████████████████████████████████████████████████████████████████████████████████████████████████████████████████████████████████████████████████████| 37/37 [00:16<00:00,  2.30it/s]\n"
     ]
    },
    {
     "name": "stdout",
     "output_type": "stream",
     "text": [
      "Epoch 4: train_loss=0.1394 | val_auc=0.9870 | val_acc=0.9561\n"
     ]
    },
    {
     "name": "stderr",
     "output_type": "stream",
     "text": [
      "Epoch 5/15: 100%|████████████████████████████████████████████████████████████████████████████████████████████████████████████████████████████████████████████████████████████████████████████████| 37/37 [00:15<00:00,  2.43it/s]\n"
     ]
    },
    {
     "name": "stdout",
     "output_type": "stream",
     "text": [
      "Epoch 5: train_loss=0.1265 | val_auc=0.9891 | val_acc=0.9523\n"
     ]
    },
    {
     "name": "stderr",
     "output_type": "stream",
     "text": [
      "Epoch 6/15: 100%|████████████████████████████████████████████████████████████████████████████████████████████████████████████████████████████████████████████████████████████████████████████████| 37/37 [00:14<00:00,  2.63it/s]\n"
     ]
    },
    {
     "name": "stdout",
     "output_type": "stream",
     "text": [
      "Epoch 6: train_loss=0.1193 | val_auc=0.9902 | val_acc=0.9561\n"
     ]
    },
    {
     "name": "stderr",
     "output_type": "stream",
     "text": [
      "Epoch 7/15: 100%|████████████████████████████████████████████████████████████████████████████████████████████████████████████████████████████████████████████████████████████████████████████████| 37/37 [00:15<00:00,  2.40it/s]\n"
     ]
    },
    {
     "name": "stdout",
     "output_type": "stream",
     "text": [
      "Epoch 7: train_loss=0.1073 | val_auc=0.9900 | val_acc=0.9618\n"
     ]
    },
    {
     "name": "stderr",
     "output_type": "stream",
     "text": [
      "Epoch 8/15: 100%|████████████████████████████████████████████████████████████████████████████████████████████████████████████████████████████████████████████████████████████████████████████████| 37/37 [00:14<00:00,  2.55it/s]\n"
     ]
    },
    {
     "name": "stdout",
     "output_type": "stream",
     "text": [
      "Epoch 8: train_loss=0.1074 | val_auc=0.9910 | val_acc=0.9485\n"
     ]
    },
    {
     "name": "stderr",
     "output_type": "stream",
     "text": [
      "Epoch 9/15:  97%|███████████████████████████████████████████████████████████████████████████████████████████████████████████████████████████████████████████████████████████████████████████▏    | 36/37 [00:04<00:00, 24.45it/s]"
     ]
    }
   ],
   "source": [
    "def eval_auc(loader):\n",
    "    model.eval()\n",
    "    y_true, y_prob, y_pred = [], [], []\n",
    "    with torch.no_grad():\n",
    "        for x, y in loader:\n",
    "            x, y = x.to(device), y.squeeze().long().to(device)\n",
    "            logits = model(x)\n",
    "            prob = F.softmax(logits, dim=1)[:,1].detach().cpu().numpy()\n",
    "            pred = logits.argmax(1).detach().cpu().numpy()\n",
    "            y_true.extend(y.cpu().numpy()); y_prob.extend(prob); y_pred.extend(pred)\n",
    "    auc = roc_auc_score(y_true, y_prob)\n",
    "    acc = accuracy_score(y_true, y_pred)\n",
    "    return auc, acc\n",
    "\n",
    "best_auc, patience, patience_ctr = -1, 5, 0\n",
    "EPOCHS = 15\n",
    "for epoch in range(1, EPOCHS+1):\n",
    "    model.train()\n",
    "    losses = []\n",
    "    for x, y in tqdm(train_loader, desc=f\"Epoch {epoch}/{EPOCHS}\"):\n",
    "        x, y = x.to(device), y.squeeze().long().to(device)\n",
    "        optimizer.zero_grad()\n",
    "        loss = criterion(model(x), y)\n",
    "        loss.backward()\n",
    "        optimizer.step()\n",
    "        losses.append(loss.item())\n",
    "    val_auc, val_acc = eval_auc(val_loader)\n",
    "    print(f\"Epoch {epoch}: train_loss={np.mean(losses):.4f} | val_auc={val_auc:.4f} | val_acc={val_acc:.4f}\")\n",
    "    if val_auc > best_auc:\n",
    "        best_auc = val_auc; patience_ctr = 0\n",
    "        torch.save(model.state_dict(), 'best_cnn.pt')\n",
    "    else:\n",
    "        patience_ctr += 1\n",
    "        if patience_ctr >= patience:\n",
    "            print(\"Early stopping.\")\n",
    "            break"
   ]
  },
  {
   "cell_type": "markdown",
   "id": "3d1c3ed684f2b5e6",
   "metadata": {},
   "source": [
    "## 4) Valutazione su test set (ROC, AUC, Confusion Matrix)"
   ]
  },
  {
   "cell_type": "code",
   "execution_count": null,
   "id": "386e7e47f856a1b8",
   "metadata": {
    "ExecuteTime": {
     "end_time": "2025-09-08T23:41:20.939133Z",
     "start_time": "2025-09-08T23:41:06.638742Z"
    }
   },
   "outputs": [],
   "source": [
    "model.load_state_dict(torch.load('best_cnn.pt', map_location=device))\n",
    "model.eval()\n",
    "y_true, y_prob, y_pred = [], [], []\n",
    "with torch.no_grad():\n",
    "    for x, y in test_loader:\n",
    "        x, y = x.to(device), y.squeeze().long().to(device)\n",
    "        logits = model(x)\n",
    "        prob = F.softmax(logits, dim=1)[:,1].detach().cpu().numpy()\n",
    "        pred = logits.argmax(1).detach().cpu().numpy()\n",
    "        y_true.extend(y.cpu().numpy()); y_prob.extend(prob); y_pred.extend(pred)\n",
    "\n",
    "test_auc = roc_auc_score(y_true, y_prob)\n",
    "fpr, tpr, thr = roc_curve(y_true, y_prob)\n",
    "acc = accuracy_score(y_true, y_pred)\n",
    "cm = confusion_matrix(y_true, y_pred)\n",
    "\n",
    "print(f\"AUC (test): {test_auc:.4f}, ACC: {acc:.4f}\")\n",
    "plt.figure()\n",
    "plt.plot(fpr, tpr, label=f'ROC (AUC={test_auc:.3f})')\n",
    "plt.plot([0,1],[0,1],'--')\n",
    "plt.xlabel('FPR'); plt.ylabel('TPR'); plt.title('ROC – PneumoniaMNIST')\n",
    "plt.legend(); plt.show()\n",
    "\n",
    "print(\"Confusion Matrix:\\n\", cm)"
   ]
  }
 ],
 "metadata": {
  "kernelspec": {
   "display_name": "Python 3 (ipykernel)",
   "language": "python",
   "name": "python3"
  },
  "language_info": {
   "codemirror_mode": {
    "name": "ipython",
    "version": 3
   },
   "file_extension": ".py",
   "mimetype": "text/x-python",
   "name": "python",
   "nbconvert_exporter": "python",
   "pygments_lexer": "ipython3",
   "version": "3.13.0"
  }
 },
 "nbformat": 4,
 "nbformat_minor": 5
}
